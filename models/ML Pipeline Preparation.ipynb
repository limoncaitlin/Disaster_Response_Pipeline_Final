{
 "cells": [
  {
   "cell_type": "markdown",
   "metadata": {},
   "source": [
    "# ML Pipeline Preparation\n",
    "Follow the instructions below to help you create your ML pipeline.\n",
    "### 1. Import libraries and load data from database.\n",
    "- Import Python libraries\n",
    "- Load dataset from database with [`read_sql_table`](https://pandas.pydata.org/pandas-docs/stable/generated/pandas.read_sql_table.html)\n",
    "- Define feature and target variables X and Y"
   ]
  },
  {
   "cell_type": "code",
   "execution_count": 1,
   "metadata": {},
   "outputs": [
    {
     "output_type": "stream",
     "name": "stderr",
     "text": "[nltk_data] Downloading package punkt to /home/lucy/nltk_data...\n[nltk_data]   Package punkt is already up-to-date!\n[nltk_data] Downloading package wordnet to /home/lucy/nltk_data...\n[nltk_data]   Package wordnet is already up-to-date!\n"
    }
   ],
   "source": [
    "# import libraries\n",
    "import numpy as np\n",
    "import nltk\n",
    "nltk.download(['punkt', 'wordnet'])\n",
    "import re\n",
    "from nltk.tokenize import word_tokenize\n",
    "from nltk.stem import WordNetLemmatizer\n",
    "# import statements\n",
    "import pandas as pd\n",
    "from sqlalchemy import create_engine\n",
    "from sklearn.multioutput import MultiOutputClassifier\n",
    "from sklearn.pipeline import Pipeline\n",
    "from sklearn.feature_extraction.text import CountVectorizer, TfidfTransformer\n",
    "from sklearn.ensemble import RandomForestClassifier, GradientBoostingClassifier,AdaBoostClassifier\n",
    "from sklearn.model_selection import train_test_split\n",
    "from sklearn.metrics import confusion_matrix\n",
    "from sklearn.metrics import make_scorer, accuracy_score, f1_score, fbeta_score, classification_report\n",
    "from sklearn.datasets import make_multilabel_classification\n",
    "from sklearn.model_selection import GridSearchCV\n",
    "from sklearn import tree\n",
    "from sklearn.base import BaseEstimator, TransformerMixin\n",
    "from sklearn.metrics import precision_recall_fscore_support"
   ]
  },
  {
   "cell_type": "code",
   "execution_count": 2,
   "metadata": {},
   "outputs": [],
   "source": [
    "# load data from database\n",
    "engine = create_engine('sqlite:///DisasterResponse.db')\n",
    "df = pd.read_sql('disaster_data',engine)\n",
    "X = df['message']\n",
    "y = df.iloc[:,4:]\n",
    "categories = y.columns"
   ]
  },
  {
   "cell_type": "markdown",
   "metadata": {},
   "source": [
    "### 2. Write a tokenization function to process your text data"
   ]
  },
  {
   "cell_type": "code",
   "execution_count": 3,
   "metadata": {},
   "outputs": [],
   "source": [
    "def tokenize(text):\n",
    "    url_regex = 'http[s]?://(?:[a-zA-Z]|[0-9]|[$-_@.&+]|[!*\\(\\),]|(?:%[0-9a-fA-F][0-9a-fA-F]))+'\n",
    "    detected_urls = re.findall(url_regex, text)\n",
    "    for url in detected_urls:\n",
    "        text = text.replace(url, \"urlplaceholder\")\n",
    "\n",
    "    tokens = word_tokenize(text)\n",
    "    lemmatizer = WordNetLemmatizer()\n",
    "\n",
    "    cleaned_tokens = []\n",
    "    for i in tokens:\n",
    "        clean_token = lemmatizer.lemmatize(i).lower().strip()\n",
    "        cleaned_tokens.append(clean_token)\n",
    "\n",
    "    return cleaned_tokens"
   ]
  },
  {
   "cell_type": "markdown",
   "metadata": {},
   "source": [
    "### 3. Build a machine learning pipeline\n",
    "This machine pipeline should take in the `message` column as input and output classification results on the other 36 categories in the dataset. You may find the [MultiOutputClassifier](http://scikit-learn.org/stable/modules/generated/sklearn.multioutput.MultiOutputClassifier.html) helpful for predicting multiple target variables."
   ]
  },
  {
   "cell_type": "code",
   "execution_count": 4,
   "metadata": {},
   "outputs": [],
   "source": [
    "pipeline = Pipeline([\n",
    "        ('vect', CountVectorizer(tokenizer=tokenize)),\n",
    "        ('tfidf', TfidfTransformer()),\n",
    "        ('clf', MultiOutputClassifier(RandomForestClassifier()))])"
   ]
  },
  {
   "cell_type": "markdown",
   "metadata": {},
   "source": [
    "### 4. Train pipeline\n",
    "- Split data into train and test sets\n",
    "- Train pipeline"
   ]
  },
  {
   "cell_type": "code",
   "execution_count": 5,
   "metadata": {},
   "outputs": [
    {
     "output_type": "execute_result",
     "data": {
      "text/plain": "Pipeline(memory=None,\n         steps=[('vect',\n                 CountVectorizer(analyzer='word', binary=False,\n                                 decode_error='strict',\n                                 dtype=<class 'numpy.int64'>, encoding='utf-8',\n                                 input='content', lowercase=True, max_df=1.0,\n                                 max_features=None, min_df=1,\n                                 ngram_range=(1, 1), preprocessor=None,\n                                 stop_words=None, strip_accents=None,\n                                 token_pattern='(?u)\\\\b\\\\w\\\\w+\\\\b',\n                                 tokenizer=<function tokenize at...\n                                                                        ccp_alpha=0.0,\n                                                                        class_weight=None,\n                                                                        criterion='gini',\n                                                                        max_depth=None,\n                                                                        max_features='auto',\n                                                                        max_leaf_nodes=None,\n                                                                        max_samples=None,\n                                                                        min_impurity_decrease=0.0,\n                                                                        min_impurity_split=None,\n                                                                        min_samples_leaf=1,\n                                                                        min_samples_split=2,\n                                                                        min_weight_fraction_leaf=0.0,\n                                                                        n_estimators=100,\n                                                                        n_jobs=None,\n                                                                        oob_score=False,\n                                                                        random_state=None,\n                                                                        verbose=0,\n                                                                        warm_start=False),\n                                       n_jobs=None))],\n         verbose=False)"
     },
     "metadata": {},
     "execution_count": 5
    }
   ],
   "source": [
    "X_train, X_test, y_train, y_test = train_test_split(X, y, random_state = 23)\n",
    "pipeline.fit(X_train, y_train)"
   ]
  },
  {
   "cell_type": "markdown",
   "metadata": {},
   "source": [
    "### 5. Test your model\n",
    "Report the f1 score, precision and recall for each output category of the dataset. You can do this by iterating through the columns and calling sklearn's `classification_report` on each."
   ]
  },
  {
   "cell_type": "code",
   "execution_count": 6,
   "metadata": {},
   "outputs": [],
   "source": [
    "y_pred = pipeline.predict(X_test)"
   ]
  },
  {
   "cell_type": "code",
   "execution_count": 7,
   "metadata": {},
   "outputs": [],
   "source": [
    "def performance_report(model, X_test, y_test, category_names):\n",
    "    # predict test df\n",
    "    y_pred = model.predict(X_test)\n",
    "    total_accuracy = 0\n",
    "    total_f1 = 0\n",
    "    # print report \n",
    "    for i, category in enumerate(category_names):    \n",
    "        class_report =  classification_report(y_test[y_test.columns[i]], y_pred[:,i])\n",
    "        total_accuracy += accuracy_score(y_test[y_test.columns[i]], y_pred[:,i])\n",
    "        total_f1 += precision_recall_fscore_support(y_test[y_test.columns[i]], y_pred[:,i], average = 'weighted')[2]\n",
    "        print(category, 'accuracy: {:.5f}'.format(accuracy_score(y_test[y_test.columns[i]], y_pred[:,i])))\n",
    "        print(class_report)\n",
    "    print('total accuracy {:.5f}'.format(total_accuracy/len(category_names)))\n",
    "    print('total f1 {:.5f}'.format(total_f1/len(category_names)))"
   ]
  },
  {
   "cell_type": "code",
   "execution_count": 8,
   "metadata": {},
   "outputs": [
    {
     "output_type": "stream",
     "name": "stdout",
     "text": "related accuracy: 0.79829\n              precision    recall  f1-score   support\n\n           0       0.73      0.27      0.39      1537\n           1       0.80      0.97      0.88      4968\n           2       0.67      0.08      0.15        49\n\n    accuracy                           0.80      6554\n   macro avg       0.73      0.44      0.47      6554\nweighted avg       0.79      0.80      0.76      6554\n\nrequest accuracy: 0.88557\n              precision    recall  f1-score   support\n\n           0       0.88      0.99      0.93      5390\n           1       0.91      0.40      0.55      1164\n\n    accuracy                           0.89      6554\n   macro avg       0.90      0.69      0.74      6554\nweighted avg       0.89      0.89      0.87      6554\n\noffer accuracy: 0.99619\n              precision    recall  f1-score   support\n\n           0       1.00      1.00      1.00      6529\n           1       0.00      0.00      0.00        25\n\n    accuracy                           1.00      6554\n   macro avg       0.50      0.50      0.50      6554\nweighted avg       0.99      1.00      0.99      6554\n\naid_related accuracy: 0.76594\n              precision    recall  f1-score   support\n\n           0       0.76      0.87      0.81      3830\n           1       0.78      0.61      0.69      2724\n\n    accuracy                           0.77      6554\n   macro avg       0.77      0.74      0.75      6554\nweighted avg       0.77      0.77      0.76      6554\n\nmedical_help accuracy: 0.92478\n              precision    recall  f1-score   support\n\n           0       0.93      1.00      0.96      6047\n           1       0.71      0.05      0.09       507\n\n    accuracy                           0.92      6554\n   macro avg       0.82      0.52      0.52      6554\nweighted avg       0.91      0.92      0.89      6554\n\nmedical_products accuracy: 0.95148\n              precision    recall  f1-score   support\n\n           0       0.95      1.00      0.98      6223\n           1       0.84      0.05      0.09       331\n\n    accuracy                           0.95      6554\n   macro avg       0.90      0.52      0.53      6554\nweighted avg       0.95      0.95      0.93      6554\n\nsearch_and_rescue accuracy: 0.97269\n              precision    recall  f1-score   support\n\n           0       0.97      1.00      0.99      6368\n           1       0.89      0.04      0.08       186\n\n    accuracy                           0.97      6554\n   macro avg       0.93      0.52      0.53      6554\nweighted avg       0.97      0.97      0.96      6554\n\nsecurity accuracy: 0.98154\n              precision    recall  f1-score   support\n\n           0       0.98      1.00      0.99      6433\n           1       0.00      0.00      0.00       121\n\n    accuracy                           0.98      6554\n   macro avg       0.49      0.50      0.50      6554\nweighted avg       0.96      0.98      0.97      6554\n\nmilitary accuracy: 0.96933\n              precision    recall  f1-score   support\n\n           0       0.97      1.00      0.98      6350\n           1       1.00      0.01      0.03       204\n\n    accuracy                           0.97      6554\n   macro avg       0.98      0.51      0.51      6554\nweighted avg       0.97      0.97      0.95      6554\n\nchild_alone accuracy: 1.00000\n              precision    recall  f1-score   support\n\n           0       1.00      1.00      1.00      6554\n\n    accuracy                           1.00      6554\n   macro avg       1.00      1.00      1.00      6554\nweighted avg       1.00      1.00      1.00      6554\n\nwater accuracy: 0.94660\n              precision    recall  f1-score   support\n\n           0       0.95      1.00      0.97      6102\n           1       0.91      0.25      0.39       452\n\n    accuracy                           0.95      6554\n   macro avg       0.93      0.62      0.68      6554\nweighted avg       0.94      0.95      0.93      6554\n\nfood accuracy: 0.92798\n              precision    recall  f1-score   support\n\n           0       0.93      0.99      0.96      5807\n           1       0.90      0.41      0.57       747\n\n    accuracy                           0.93      6554\n   macro avg       0.92      0.70      0.76      6554\nweighted avg       0.93      0.93      0.92      6554\n\nshelter accuracy: 0.92936\n              precision    recall  f1-score   support\n\n           0       0.93      1.00      0.96      5969\n           1       0.86      0.25      0.39       585\n\n    accuracy                           0.93      6554\n   macro avg       0.90      0.62      0.67      6554\nweighted avg       0.92      0.93      0.91      6554\n\nclothing accuracy: 0.98489\n              precision    recall  f1-score   support\n\n           0       0.99      1.00      0.99      6453\n           1       0.67      0.04      0.07       101\n\n    accuracy                           0.98      6554\n   macro avg       0.83      0.52      0.53      6554\nweighted avg       0.98      0.98      0.98      6554\n\nmoney accuracy: 0.97589\n              precision    recall  f1-score   support\n\n           0       0.98      1.00      0.99      6392\n           1       1.00      0.02      0.05       162\n\n    accuracy                           0.98      6554\n   macro avg       0.99      0.51      0.52      6554\nweighted avg       0.98      0.98      0.96      6554\n\nmissing_people accuracy: 0.98932\n              precision    recall  f1-score   support\n\n           0       0.99      1.00      0.99      6484\n           1       0.00      0.00      0.00        70\n\n    accuracy                           0.99      6554\n   macro avg       0.49      0.50      0.50      6554\nweighted avg       0.98      0.99      0.98      6554\n\nrefugees accuracy: 0.96399\n              precision    recall  f1-score   support\n\n           0       0.96      1.00      0.98      6317\n           1       0.60      0.01      0.02       237\n\n    accuracy                           0.96      6554\n   macro avg       0.78      0.51      0.50      6554\nweighted avg       0.95      0.96      0.95      6554\n\ndeath accuracy: 0.95987\n              precision    recall  f1-score   support\n\n           0       0.96      1.00      0.98      6268\n           1       0.85      0.10      0.18       286\n\n    accuracy                           0.96      6554\n   macro avg       0.90      0.55      0.58      6554\nweighted avg       0.96      0.96      0.94      6554\n\nother_aid accuracy: 0.86695\n              precision    recall  f1-score   support\n\n           0       0.87      1.00      0.93      5671\n           1       0.76      0.02      0.04       883\n\n    accuracy                           0.87      6554\n   macro avg       0.81      0.51      0.48      6554\nweighted avg       0.85      0.87      0.81      6554\n\ninfrastructure_related accuracy: 0.93363\n              precision    recall  f1-score   support\n\n           0       0.93      1.00      0.97      6121\n           1       0.00      0.00      0.00       433\n\n    accuracy                           0.93      6554\n   macro avg       0.47      0.50      0.48      6554\nweighted avg       0.87      0.93      0.90      6554\n\ntransport accuracy: 0.95621\n              precision    recall  f1-score   support\n\n           0       0.96      1.00      0.98      6257\n           1       0.68      0.06      0.12       297\n\n    accuracy                           0.96      6554\n   macro avg       0.82      0.53      0.55      6554\nweighted avg       0.94      0.96      0.94      6554\n\nbuildings accuracy: 0.94843\n              precision    recall  f1-score   support\n\n           0       0.95      1.00      0.97      6206\n           1       0.86      0.03      0.07       348\n\n    accuracy                           0.95      6554\n   macro avg       0.90      0.52      0.52      6554\nweighted avg       0.94      0.95      0.93      6554\n\nelectricity accuracy: 0.98200\n              precision    recall  f1-score   support\n\n           0       0.98      1.00      0.99      6429\n           1       1.00      0.06      0.11       125\n\n    accuracy                           0.98      6554\n   macro avg       0.99      0.53      0.55      6554\nweighted avg       0.98      0.98      0.97      6554\n\ntools accuracy: 0.99344\n              precision    recall  f1-score   support\n\n           0       0.99      1.00      1.00      6511\n           1       0.00      0.00      0.00        43\n\n    accuracy                           0.99      6554\n   macro avg       0.50      0.50      0.50      6554\nweighted avg       0.99      0.99      0.99      6554\n\nhospitals accuracy: 0.98764\n              precision    recall  f1-score   support\n\n           0       0.99      1.00      0.99      6473\n           1       0.00      0.00      0.00        81\n\n    accuracy                           0.99      6554\n   macro avg       0.49      0.50      0.50      6554\nweighted avg       0.98      0.99      0.98      6554\n\nshops accuracy: 0.99542\n              precision    recall  f1-score   support\n\n           0       1.00      1.00      1.00      6524\n           1       0.00      0.00      0.00        30\n\n    accuracy                           1.00      6554\n   macro avg       0.50      0.50      0.50      6554\nweighted avg       0.99      1.00      0.99      6554\n\naid_centers accuracy: 0.98612\n              precision    recall  f1-score   support\n\n           0       0.99      1.00      0.99      6463\n           1       0.00      0.00      0.00        91\n\n    accuracy                           0.99      6554\n   macro avg       0.49      0.50      0.50      6554\nweighted avg       0.97      0.99      0.98      6554\n\nother_infrastructure accuracy: 0.95667\n              precision    recall  f1-score   support\n\n           0       0.96      1.00      0.98      6272\n           1       0.00      0.00      0.00       282\n\n    accuracy                           0.96      6554\n   macro avg       0.48      0.50      0.49      6554\nweighted avg       0.92      0.96      0.94      6554\n\nweather_related accuracy: 0.86619\n              precision    recall  f1-score   support\n\n           0       0.87      0.96      0.91      4782\n           1       0.86      0.60      0.71      1772\n\n    accuracy                           0.87      6554\n   macro avg       0.86      0.78      0.81      6554\nweighted avg       0.87      0.87      0.86      6554\n\nfloods accuracy: 0.94446\n              precision    recall  f1-score   support\n\n           0       0.95      1.00      0.97      6039\n           1       0.88      0.34      0.49       515\n\n    accuracy                           0.94      6554\n   macro avg       0.91      0.67      0.73      6554\nweighted avg       0.94      0.94      0.93      6554\n\nstorm accuracy: 0.93561\n              precision    recall  f1-score   support\n\n           0       0.94      0.99      0.97      5946\n           1       0.80      0.41      0.54       608\n\n    accuracy                           0.94      6554\n   macro avg       0.87      0.70      0.75      6554\nweighted avg       0.93      0.94      0.93      6554\n\nfire accuracy: 0.99039\n              precision    recall  f1-score   support\n\n           0       0.99      1.00      1.00      6492\n           1       0.00      0.00      0.00        62\n\n    accuracy                           0.99      6554\n   macro avg       0.50      0.50      0.50      6554\nweighted avg       0.98      0.99      0.99      6554\n\nearthquake accuracy: 0.96781\n              precision    recall  f1-score   support\n\n           0       0.97      0.99      0.98      5949\n           1       0.91      0.72      0.80       605\n\n    accuracy                           0.97      6554\n   macro avg       0.94      0.86      0.89      6554\nweighted avg       0.97      0.97      0.97      6554\n\ncold accuracy: 0.97971\n              precision    recall  f1-score   support\n\n           0       0.98      1.00      0.99      6415\n           1       0.80      0.06      0.11       139\n\n    accuracy                           0.98      6554\n   macro avg       0.89      0.53      0.55      6554\nweighted avg       0.98      0.98      0.97      6554\n\nother_weather accuracy: 0.94690\n              precision    recall  f1-score   support\n\n           0       0.95      1.00      0.97      6205\n           1       0.60      0.01      0.02       349\n\n    accuracy                           0.95      6554\n   macro avg       0.77      0.50      0.49      6554\nweighted avg       0.93      0.95      0.92      6554\n\ndirect_report accuracy: 0.86375\n              precision    recall  f1-score   support\n\n           0       0.86      0.99      0.92      5273\n           1       0.88      0.35      0.50      1281\n\n    accuracy                           0.86      6554\n   macro avg       0.87      0.67      0.71      6554\nweighted avg       0.87      0.86      0.84      6554\n\ntotal accuracy 0.94514\ntotal f1 0.93049\n"
    }
   ],
   "source": [
    "category_names = list(df.columns[4:])\n",
    "performance_report(pipeline, X_test, y_test, category_names)"
   ]
  },
  {
   "cell_type": "markdown",
   "metadata": {},
   "source": [
    "### 6. Improve your model\n",
    "Use grid search to find better parameters. "
   ]
  },
  {
   "cell_type": "code",
   "execution_count": 9,
   "metadata": {},
   "outputs": [
    {
     "output_type": "execute_result",
     "data": {
      "text/plain": "{'memory': None,\n 'steps': [('vect',\n   CountVectorizer(analyzer='word', binary=False, decode_error='strict',\n                   dtype=<class 'numpy.int64'>, encoding='utf-8', input='content',\n                   lowercase=True, max_df=1.0, max_features=None, min_df=1,\n                   ngram_range=(1, 1), preprocessor=None, stop_words=None,\n                   strip_accents=None, token_pattern='(?u)\\\\b\\\\w\\\\w+\\\\b',\n                   tokenizer=<function tokenize at 0x7fe184bf2b90>,\n                   vocabulary=None)),\n  ('tfidf',\n   TfidfTransformer(norm='l2', smooth_idf=True, sublinear_tf=False, use_idf=True)),\n  ('clf',\n   MultiOutputClassifier(estimator=RandomForestClassifier(bootstrap=True,\n                                                          ccp_alpha=0.0,\n                                                          class_weight=None,\n                                                          criterion='gini',\n                                                          max_depth=None,\n                                                          max_features='auto',\n                                                          max_leaf_nodes=None,\n                                                          max_samples=None,\n                                                          min_impurity_decrease=0.0,\n                                                          min_impurity_split=None,\n                                                          min_samples_leaf=1,\n                                                          min_samples_split=2,\n                                                          min_weight_fraction_leaf=0.0,\n                                                          n_estimators=100,\n                                                          n_jobs=None,\n                                                          oob_score=False,\n                                                          random_state=None,\n                                                          verbose=0,\n                                                          warm_start=False),\n                         n_jobs=None))],\n 'verbose': False,\n 'vect': CountVectorizer(analyzer='word', binary=False, decode_error='strict',\n                 dtype=<class 'numpy.int64'>, encoding='utf-8', input='content',\n                 lowercase=True, max_df=1.0, max_features=None, min_df=1,\n                 ngram_range=(1, 1), preprocessor=None, stop_words=None,\n                 strip_accents=None, token_pattern='(?u)\\\\b\\\\w\\\\w+\\\\b',\n                 tokenizer=<function tokenize at 0x7fe184bf2b90>,\n                 vocabulary=None),\n 'tfidf': TfidfTransformer(norm='l2', smooth_idf=True, sublinear_tf=False, use_idf=True),\n 'clf': MultiOutputClassifier(estimator=RandomForestClassifier(bootstrap=True,\n                                                        ccp_alpha=0.0,\n                                                        class_weight=None,\n                                                        criterion='gini',\n                                                        max_depth=None,\n                                                        max_features='auto',\n                                                        max_leaf_nodes=None,\n                                                        max_samples=None,\n                                                        min_impurity_decrease=0.0,\n                                                        min_impurity_split=None,\n                                                        min_samples_leaf=1,\n                                                        min_samples_split=2,\n                                                        min_weight_fraction_leaf=0.0,\n                                                        n_estimators=100,\n                                                        n_jobs=None,\n                                                        oob_score=False,\n                                                        random_state=None,\n                                                        verbose=0,\n                                                        warm_start=False),\n                       n_jobs=None),\n 'vect__analyzer': 'word',\n 'vect__binary': False,\n 'vect__decode_error': 'strict',\n 'vect__dtype': numpy.int64,\n 'vect__encoding': 'utf-8',\n 'vect__input': 'content',\n 'vect__lowercase': True,\n 'vect__max_df': 1.0,\n 'vect__max_features': None,\n 'vect__min_df': 1,\n 'vect__ngram_range': (1, 1),\n 'vect__preprocessor': None,\n 'vect__stop_words': None,\n 'vect__strip_accents': None,\n 'vect__token_pattern': '(?u)\\\\b\\\\w\\\\w+\\\\b',\n 'vect__tokenizer': <function __main__.tokenize(text)>,\n 'vect__vocabulary': None,\n 'tfidf__norm': 'l2',\n 'tfidf__smooth_idf': True,\n 'tfidf__sublinear_tf': False,\n 'tfidf__use_idf': True,\n 'clf__estimator__bootstrap': True,\n 'clf__estimator__ccp_alpha': 0.0,\n 'clf__estimator__class_weight': None,\n 'clf__estimator__criterion': 'gini',\n 'clf__estimator__max_depth': None,\n 'clf__estimator__max_features': 'auto',\n 'clf__estimator__max_leaf_nodes': None,\n 'clf__estimator__max_samples': None,\n 'clf__estimator__min_impurity_decrease': 0.0,\n 'clf__estimator__min_impurity_split': None,\n 'clf__estimator__min_samples_leaf': 1,\n 'clf__estimator__min_samples_split': 2,\n 'clf__estimator__min_weight_fraction_leaf': 0.0,\n 'clf__estimator__n_estimators': 100,\n 'clf__estimator__n_jobs': None,\n 'clf__estimator__oob_score': False,\n 'clf__estimator__random_state': None,\n 'clf__estimator__verbose': 0,\n 'clf__estimator__warm_start': False,\n 'clf__estimator': RandomForestClassifier(bootstrap=True, ccp_alpha=0.0, class_weight=None,\n                        criterion='gini', max_depth=None, max_features='auto',\n                        max_leaf_nodes=None, max_samples=None,\n                        min_impurity_decrease=0.0, min_impurity_split=None,\n                        min_samples_leaf=1, min_samples_split=2,\n                        min_weight_fraction_leaf=0.0, n_estimators=100,\n                        n_jobs=None, oob_score=False, random_state=None,\n                        verbose=0, warm_start=False),\n 'clf__n_jobs': None}"
     },
     "metadata": {},
     "execution_count": 9
    }
   ],
   "source": [
    "pipeline.get_params()"
   ]
  },
  {
   "cell_type": "code",
   "execution_count": 10,
   "metadata": {},
   "outputs": [
    {
     "output_type": "stream",
     "name": "stdout",
     "text": "Fitting 5 folds for each of 8 candidates, totalling 40 fits\n[CV] tfidf__smooth_idf=True, tfidf__sublinear_tf=True, tfidf__use_idf=True \n[Parallel(n_jobs=1)]: Using backend SequentialBackend with 1 concurrent workers.\n[CV]  tfidf__smooth_idf=True, tfidf__sublinear_tf=True, tfidf__use_idf=True, score=0.250, total= 5.3min\n[CV] tfidf__smooth_idf=True, tfidf__sublinear_tf=True, tfidf__use_idf=True \n[Parallel(n_jobs=1)]: Done   1 out of   1 | elapsed:  5.3min remaining:    0.0s\n[CV]  tfidf__smooth_idf=True, tfidf__sublinear_tf=True, tfidf__use_idf=True, score=0.319, total= 5.6min\n[CV] tfidf__smooth_idf=True, tfidf__sublinear_tf=True, tfidf__use_idf=True \n[Parallel(n_jobs=1)]: Done   2 out of   2 | elapsed: 10.9min remaining:    0.0s\n[CV]  tfidf__smooth_idf=True, tfidf__sublinear_tf=True, tfidf__use_idf=True, score=0.175, total= 5.0min\n[CV] tfidf__smooth_idf=True, tfidf__sublinear_tf=True, tfidf__use_idf=True \n[Parallel(n_jobs=1)]: Done   3 out of   3 | elapsed: 15.9min remaining:    0.0s\n[CV]  tfidf__smooth_idf=True, tfidf__sublinear_tf=True, tfidf__use_idf=True, score=0.198, total= 5.2min\n[CV] tfidf__smooth_idf=True, tfidf__sublinear_tf=True, tfidf__use_idf=True \n[Parallel(n_jobs=1)]: Done   4 out of   4 | elapsed: 21.1min remaining:    0.0s\n[CV]  tfidf__smooth_idf=True, tfidf__sublinear_tf=True, tfidf__use_idf=True, score=0.180, total= 5.2min\n[CV] tfidf__smooth_idf=True, tfidf__sublinear_tf=True, tfidf__use_idf=False \n[Parallel(n_jobs=1)]: Done   5 out of   5 | elapsed: 26.3min remaining:    0.0s\n[CV]  tfidf__smooth_idf=True, tfidf__sublinear_tf=True, tfidf__use_idf=False, score=0.244, total= 5.4min\n[CV] tfidf__smooth_idf=True, tfidf__sublinear_tf=True, tfidf__use_idf=False \n[Parallel(n_jobs=1)]: Done   6 out of   6 | elapsed: 31.7min remaining:    0.0s\n[CV]  tfidf__smooth_idf=True, tfidf__sublinear_tf=True, tfidf__use_idf=False, score=0.315, total= 5.6min\n[CV] tfidf__smooth_idf=True, tfidf__sublinear_tf=True, tfidf__use_idf=False \n[Parallel(n_jobs=1)]: Done   7 out of   7 | elapsed: 37.3min remaining:    0.0s\n[CV]  tfidf__smooth_idf=True, tfidf__sublinear_tf=True, tfidf__use_idf=False, score=0.178, total= 4.8min\n[CV] tfidf__smooth_idf=True, tfidf__sublinear_tf=True, tfidf__use_idf=False \n[Parallel(n_jobs=1)]: Done   8 out of   8 | elapsed: 42.1min remaining:    0.0s\n[CV]  tfidf__smooth_idf=True, tfidf__sublinear_tf=True, tfidf__use_idf=False, score=0.198, total= 5.0min\n[CV] tfidf__smooth_idf=True, tfidf__sublinear_tf=True, tfidf__use_idf=False \n[Parallel(n_jobs=1)]: Done   9 out of   9 | elapsed: 47.1min remaining:    0.0s\n[CV]  tfidf__smooth_idf=True, tfidf__sublinear_tf=True, tfidf__use_idf=False, score=0.175, total= 5.0min\n[CV] tfidf__smooth_idf=True, tfidf__sublinear_tf=False, tfidf__use_idf=True \n[CV]  tfidf__smooth_idf=True, tfidf__sublinear_tf=False, tfidf__use_idf=True, score=0.246, total= 5.1min\n[CV] tfidf__smooth_idf=True, tfidf__sublinear_tf=False, tfidf__use_idf=True \n[CV]  tfidf__smooth_idf=True, tfidf__sublinear_tf=False, tfidf__use_idf=True, score=0.314, total= 5.3min\n[CV] tfidf__smooth_idf=True, tfidf__sublinear_tf=False, tfidf__use_idf=True \n[CV]  tfidf__smooth_idf=True, tfidf__sublinear_tf=False, tfidf__use_idf=True, score=0.173, total= 4.6min\n[CV] tfidf__smooth_idf=True, tfidf__sublinear_tf=False, tfidf__use_idf=True \n[CV]  tfidf__smooth_idf=True, tfidf__sublinear_tf=False, tfidf__use_idf=True, score=0.201, total= 4.9min\n[CV] tfidf__smooth_idf=True, tfidf__sublinear_tf=False, tfidf__use_idf=True \n[CV]  tfidf__smooth_idf=True, tfidf__sublinear_tf=False, tfidf__use_idf=True, score=0.182, total= 4.9min\n[CV] tfidf__smooth_idf=True, tfidf__sublinear_tf=False, tfidf__use_idf=False \n[CV]  tfidf__smooth_idf=True, tfidf__sublinear_tf=False, tfidf__use_idf=False, score=0.238, total= 5.1min\n[CV] tfidf__smooth_idf=True, tfidf__sublinear_tf=False, tfidf__use_idf=False \n[CV]  tfidf__smooth_idf=True, tfidf__sublinear_tf=False, tfidf__use_idf=False, score=0.311, total= 5.2min\n[CV] tfidf__smooth_idf=True, tfidf__sublinear_tf=False, tfidf__use_idf=False \n[CV]  tfidf__smooth_idf=True, tfidf__sublinear_tf=False, tfidf__use_idf=False, score=0.177, total= 4.7min\n[CV] tfidf__smooth_idf=True, tfidf__sublinear_tf=False, tfidf__use_idf=False \n[CV]  tfidf__smooth_idf=True, tfidf__sublinear_tf=False, tfidf__use_idf=False, score=0.198, total= 4.9min\n[CV] tfidf__smooth_idf=True, tfidf__sublinear_tf=False, tfidf__use_idf=False \n[CV]  tfidf__smooth_idf=True, tfidf__sublinear_tf=False, tfidf__use_idf=False, score=0.179, total= 4.9min\n[CV] tfidf__smooth_idf=False, tfidf__sublinear_tf=True, tfidf__use_idf=True \n[CV]  tfidf__smooth_idf=False, tfidf__sublinear_tf=True, tfidf__use_idf=True, score=0.250, total= 5.0min\n[CV] tfidf__smooth_idf=False, tfidf__sublinear_tf=True, tfidf__use_idf=True \n[CV]  tfidf__smooth_idf=False, tfidf__sublinear_tf=True, tfidf__use_idf=True, score=0.311, total= 5.3min\n[CV] tfidf__smooth_idf=False, tfidf__sublinear_tf=True, tfidf__use_idf=True \n[CV]  tfidf__smooth_idf=False, tfidf__sublinear_tf=True, tfidf__use_idf=True, score=0.177, total= 4.6min\n[CV] tfidf__smooth_idf=False, tfidf__sublinear_tf=True, tfidf__use_idf=True \n[CV]  tfidf__smooth_idf=False, tfidf__sublinear_tf=True, tfidf__use_idf=True, score=0.195, total= 4.8min\n[CV] tfidf__smooth_idf=False, tfidf__sublinear_tf=True, tfidf__use_idf=True \n[CV]  tfidf__smooth_idf=False, tfidf__sublinear_tf=True, tfidf__use_idf=True, score=0.180, total= 4.9min\n[CV] tfidf__smooth_idf=False, tfidf__sublinear_tf=True, tfidf__use_idf=False \n[CV]  tfidf__smooth_idf=False, tfidf__sublinear_tf=True, tfidf__use_idf=False, score=0.243, total= 5.1min\n[CV] tfidf__smooth_idf=False, tfidf__sublinear_tf=True, tfidf__use_idf=False \n[CV]  tfidf__smooth_idf=False, tfidf__sublinear_tf=True, tfidf__use_idf=False, score=0.322, total= 5.5min\n[CV] tfidf__smooth_idf=False, tfidf__sublinear_tf=True, tfidf__use_idf=False \n[CV]  tfidf__smooth_idf=False, tfidf__sublinear_tf=True, tfidf__use_idf=False, score=0.181, total= 4.8min\n[CV] tfidf__smooth_idf=False, tfidf__sublinear_tf=True, tfidf__use_idf=False \n[CV]  tfidf__smooth_idf=False, tfidf__sublinear_tf=True, tfidf__use_idf=False, score=0.199, total= 5.0min\n[CV] tfidf__smooth_idf=False, tfidf__sublinear_tf=True, tfidf__use_idf=False \n[CV]  tfidf__smooth_idf=False, tfidf__sublinear_tf=True, tfidf__use_idf=False, score=0.184, total= 5.0min\n[CV] tfidf__smooth_idf=False, tfidf__sublinear_tf=False, tfidf__use_idf=True \n[CV]  tfidf__smooth_idf=False, tfidf__sublinear_tf=False, tfidf__use_idf=True, score=0.248, total= 5.0min\n[CV] tfidf__smooth_idf=False, tfidf__sublinear_tf=False, tfidf__use_idf=True \n[CV]  tfidf__smooth_idf=False, tfidf__sublinear_tf=False, tfidf__use_idf=True, score=0.322, total= 5.3min\n[CV] tfidf__smooth_idf=False, tfidf__sublinear_tf=False, tfidf__use_idf=True \n[CV]  tfidf__smooth_idf=False, tfidf__sublinear_tf=False, tfidf__use_idf=True, score=0.177, total= 4.7min\n[CV] tfidf__smooth_idf=False, tfidf__sublinear_tf=False, tfidf__use_idf=True \n[CV]  tfidf__smooth_idf=False, tfidf__sublinear_tf=False, tfidf__use_idf=True, score=0.198, total= 4.9min\n[CV] tfidf__smooth_idf=False, tfidf__sublinear_tf=False, tfidf__use_idf=True \n[CV]  tfidf__smooth_idf=False, tfidf__sublinear_tf=False, tfidf__use_idf=True, score=0.181, total= 4.9min\n[CV] tfidf__smooth_idf=False, tfidf__sublinear_tf=False, tfidf__use_idf=False \n[CV]  tfidf__smooth_idf=False, tfidf__sublinear_tf=False, tfidf__use_idf=False, score=0.247, total= 5.0min\n[CV] tfidf__smooth_idf=False, tfidf__sublinear_tf=False, tfidf__use_idf=False \n[CV]  tfidf__smooth_idf=False, tfidf__sublinear_tf=False, tfidf__use_idf=False, score=0.312, total= 5.4min\n[CV] tfidf__smooth_idf=False, tfidf__sublinear_tf=False, tfidf__use_idf=False \n[CV]  tfidf__smooth_idf=False, tfidf__sublinear_tf=False, tfidf__use_idf=False, score=0.177, total= 4.6min\n[CV] tfidf__smooth_idf=False, tfidf__sublinear_tf=False, tfidf__use_idf=False \n[CV]  tfidf__smooth_idf=False, tfidf__sublinear_tf=False, tfidf__use_idf=False, score=0.200, total= 4.9min\n[CV] tfidf__smooth_idf=False, tfidf__sublinear_tf=False, tfidf__use_idf=False \n[CV]  tfidf__smooth_idf=False, tfidf__sublinear_tf=False, tfidf__use_idf=False, score=0.183, total= 4.9min\n[Parallel(n_jobs=1)]: Done  40 out of  40 | elapsed: 200.9min finished\n0.22562489697861648\n{'tfidf__smooth_idf': False, 'tfidf__sublinear_tf': True, 'tfidf__use_idf': False}\n"
    }
   ],
   "source": [
    "parameters = {\n",
    "            'tfidf__use_idf': (True, False), 'tfidf__smooth_idf': (True, False),\n",
    "            'tfidf__sublinear_tf': (True, False)}\n",
    "\n",
    "cv = GridSearchCV(pipeline, param_grid=parameters, verbose=10)\n",
    "cv.fit(X,y)\n",
    "print(cv.best_score_)\n",
    "print(cv.best_params_)"
   ]
  },
  {
   "cell_type": "markdown",
   "metadata": {},
   "source": [
    "### 7. Test your model\n",
    "Show the accuracy, precision, and recall of the tuned model.  \n",
    "\n",
    "Since this project focuses on code quality, process, and  pipelines, there is no minimum performance metric needed to pass. However, make sure to fine tune your models for accuracy, precision and recall to make your project stand out - especially for your portfolio!"
   ]
  },
  {
   "cell_type": "code",
   "execution_count": 12,
   "metadata": {},
   "outputs": [
    {
     "output_type": "stream",
     "name": "stdout",
     "text": "related accuracy: 0.99893\n              precision    recall  f1-score   support\n\n           0       1.00      1.00      1.00      1537\n           1       1.00      1.00      1.00      4968\n           2       1.00      0.96      0.98        49\n\n    accuracy                           1.00      6554\n   macro avg       1.00      0.99      0.99      6554\nweighted avg       1.00      1.00      1.00      6554\n\nrequest accuracy: 0.99969\n              precision    recall  f1-score   support\n\n           0       1.00      1.00      1.00      5390\n           1       1.00      1.00      1.00      1164\n\n    accuracy                           1.00      6554\n   macro avg       1.00      1.00      1.00      6554\nweighted avg       1.00      1.00      1.00      6554\n\noffer accuracy: 1.00000\n              precision    recall  f1-score   support\n\n           0       1.00      1.00      1.00      6529\n           1       1.00      1.00      1.00        25\n\n    accuracy                           1.00      6554\n   macro avg       1.00      1.00      1.00      6554\nweighted avg       1.00      1.00      1.00      6554\n\naid_related accuracy: 0.99939\n              precision    recall  f1-score   support\n\n           0       1.00      1.00      1.00      3830\n           1       1.00      1.00      1.00      2724\n\n    accuracy                           1.00      6554\n   macro avg       1.00      1.00      1.00      6554\nweighted avg       1.00      1.00      1.00      6554\n\nmedical_help accuracy: 0.99985\n              precision    recall  f1-score   support\n\n           0       1.00      1.00      1.00      6047\n           1       1.00      1.00      1.00       507\n\n    accuracy                           1.00      6554\n   macro avg       1.00      1.00      1.00      6554\nweighted avg       1.00      1.00      1.00      6554\n\nmedical_products accuracy: 1.00000\n              precision    recall  f1-score   support\n\n           0       1.00      1.00      1.00      6223\n           1       1.00      1.00      1.00       331\n\n    accuracy                           1.00      6554\n   macro avg       1.00      1.00      1.00      6554\nweighted avg       1.00      1.00      1.00      6554\n\nsearch_and_rescue accuracy: 0.99985\n              precision    recall  f1-score   support\n\n           0       1.00      1.00      1.00      6368\n           1       1.00      0.99      1.00       186\n\n    accuracy                           1.00      6554\n   macro avg       1.00      1.00      1.00      6554\nweighted avg       1.00      1.00      1.00      6554\n\nsecurity accuracy: 0.99985\n              precision    recall  f1-score   support\n\n           0       1.00      1.00      1.00      6433\n           1       1.00      0.99      1.00       121\n\n    accuracy                           1.00      6554\n   macro avg       1.00      1.00      1.00      6554\nweighted avg       1.00      1.00      1.00      6554\n\nmilitary accuracy: 0.99985\n              precision    recall  f1-score   support\n\n           0       1.00      1.00      1.00      6350\n           1       1.00      1.00      1.00       204\n\n    accuracy                           1.00      6554\n   macro avg       1.00      1.00      1.00      6554\nweighted avg       1.00      1.00      1.00      6554\n\nchild_alone accuracy: 1.00000\n              precision    recall  f1-score   support\n\n           0       1.00      1.00      1.00      6554\n\n    accuracy                           1.00      6554\n   macro avg       1.00      1.00      1.00      6554\nweighted avg       1.00      1.00      1.00      6554\n\nwater accuracy: 1.00000\n              precision    recall  f1-score   support\n\n           0       1.00      1.00      1.00      6102\n           1       1.00      1.00      1.00       452\n\n    accuracy                           1.00      6554\n   macro avg       1.00      1.00      1.00      6554\nweighted avg       1.00      1.00      1.00      6554\n\nfood accuracy: 1.00000\n              precision    recall  f1-score   support\n\n           0       1.00      1.00      1.00      5807\n           1       1.00      1.00      1.00       747\n\n    accuracy                           1.00      6554\n   macro avg       1.00      1.00      1.00      6554\nweighted avg       1.00      1.00      1.00      6554\n\nshelter accuracy: 1.00000\n              precision    recall  f1-score   support\n\n           0       1.00      1.00      1.00      5969\n           1       1.00      1.00      1.00       585\n\n    accuracy                           1.00      6554\n   macro avg       1.00      1.00      1.00      6554\nweighted avg       1.00      1.00      1.00      6554\n\nclothing accuracy: 1.00000\n              precision    recall  f1-score   support\n\n           0       1.00      1.00      1.00      6453\n           1       1.00      1.00      1.00       101\n\n    accuracy                           1.00      6554\n   macro avg       1.00      1.00      1.00      6554\nweighted avg       1.00      1.00      1.00      6554\n\nmoney accuracy: 1.00000\n              precision    recall  f1-score   support\n\n           0       1.00      1.00      1.00      6392\n           1       1.00      1.00      1.00       162\n\n    accuracy                           1.00      6554\n   macro avg       1.00      1.00      1.00      6554\nweighted avg       1.00      1.00      1.00      6554\n\nmissing_people accuracy: 1.00000\n              precision    recall  f1-score   support\n\n           0       1.00      1.00      1.00      6484\n           1       1.00      1.00      1.00        70\n\n    accuracy                           1.00      6554\n   macro avg       1.00      1.00      1.00      6554\nweighted avg       1.00      1.00      1.00      6554\n\nrefugees accuracy: 1.00000\n              precision    recall  f1-score   support\n\n           0       1.00      1.00      1.00      6317\n           1       1.00      1.00      1.00       237\n\n    accuracy                           1.00      6554\n   macro avg       1.00      1.00      1.00      6554\nweighted avg       1.00      1.00      1.00      6554\n\ndeath accuracy: 1.00000\n              precision    recall  f1-score   support\n\n           0       1.00      1.00      1.00      6268\n           1       1.00      1.00      1.00       286\n\n    accuracy                           1.00      6554\n   macro avg       1.00      1.00      1.00      6554\nweighted avg       1.00      1.00      1.00      6554\n\nother_aid accuracy: 0.99908\n              precision    recall  f1-score   support\n\n           0       1.00      1.00      1.00      5671\n           1       1.00      0.99      1.00       883\n\n    accuracy                           1.00      6554\n   macro avg       1.00      1.00      1.00      6554\nweighted avg       1.00      1.00      1.00      6554\n\ninfrastructure_related accuracy: 0.99939\n              precision    recall  f1-score   support\n\n           0       1.00      1.00      1.00      6121\n           1       1.00      0.99      1.00       433\n\n    accuracy                           1.00      6554\n   macro avg       1.00      1.00      1.00      6554\nweighted avg       1.00      1.00      1.00      6554\n\ntransport accuracy: 1.00000\n              precision    recall  f1-score   support\n\n           0       1.00      1.00      1.00      6257\n           1       1.00      1.00      1.00       297\n\n    accuracy                           1.00      6554\n   macro avg       1.00      1.00      1.00      6554\nweighted avg       1.00      1.00      1.00      6554\n\nbuildings accuracy: 0.99985\n              precision    recall  f1-score   support\n\n           0       1.00      1.00      1.00      6206\n           1       1.00      1.00      1.00       348\n\n    accuracy                           1.00      6554\n   macro avg       1.00      1.00      1.00      6554\nweighted avg       1.00      1.00      1.00      6554\n\nelectricity accuracy: 1.00000\n              precision    recall  f1-score   support\n\n           0       1.00      1.00      1.00      6429\n           1       1.00      1.00      1.00       125\n\n    accuracy                           1.00      6554\n   macro avg       1.00      1.00      1.00      6554\nweighted avg       1.00      1.00      1.00      6554\n\ntools accuracy: 1.00000\n              precision    recall  f1-score   support\n\n           0       1.00      1.00      1.00      6511\n           1       1.00      1.00      1.00        43\n\n    accuracy                           1.00      6554\n   macro avg       1.00      1.00      1.00      6554\nweighted avg       1.00      1.00      1.00      6554\n\nhospitals accuracy: 0.99985\n              precision    recall  f1-score   support\n\n           0       1.00      1.00      1.00      6473\n           1       1.00      0.99      0.99        81\n\n    accuracy                           1.00      6554\n   macro avg       1.00      0.99      1.00      6554\nweighted avg       1.00      1.00      1.00      6554\n\nshops accuracy: 1.00000\n              precision    recall  f1-score   support\n\n           0       1.00      1.00      1.00      6524\n           1       1.00      1.00      1.00        30\n\n    accuracy                           1.00      6554\n   macro avg       1.00      1.00      1.00      6554\nweighted avg       1.00      1.00      1.00      6554\n\naid_centers accuracy: 0.99985\n              precision    recall  f1-score   support\n\n           0       1.00      1.00      1.00      6463\n           1       1.00      0.99      0.99        91\n\n    accuracy                           1.00      6554\n   macro avg       1.00      0.99      1.00      6554\nweighted avg       1.00      1.00      1.00      6554\n\nother_infrastructure accuracy: 0.99939\n              precision    recall  f1-score   support\n\n           0       1.00      1.00      1.00      6272\n           1       1.00      0.99      0.99       282\n\n    accuracy                           1.00      6554\n   macro avg       1.00      0.99      1.00      6554\nweighted avg       1.00      1.00      1.00      6554\n\nweather_related accuracy: 1.00000\n              precision    recall  f1-score   support\n\n           0       1.00      1.00      1.00      4782\n           1       1.00      1.00      1.00      1772\n\n    accuracy                           1.00      6554\n   macro avg       1.00      1.00      1.00      6554\nweighted avg       1.00      1.00      1.00      6554\n\nfloods accuracy: 1.00000\n              precision    recall  f1-score   support\n\n           0       1.00      1.00      1.00      6039\n           1       1.00      1.00      1.00       515\n\n    accuracy                           1.00      6554\n   macro avg       1.00      1.00      1.00      6554\nweighted avg       1.00      1.00      1.00      6554\n\nstorm accuracy: 0.99969\n              precision    recall  f1-score   support\n\n           0       1.00      1.00      1.00      5946\n           1       1.00      1.00      1.00       608\n\n    accuracy                           1.00      6554\n   macro avg       1.00      1.00      1.00      6554\nweighted avg       1.00      1.00      1.00      6554\n\nfire accuracy: 1.00000\n              precision    recall  f1-score   support\n\n           0       1.00      1.00      1.00      6492\n           1       1.00      1.00      1.00        62\n\n    accuracy                           1.00      6554\n   macro avg       1.00      1.00      1.00      6554\nweighted avg       1.00      1.00      1.00      6554\n\nearthquake accuracy: 0.99985\n              precision    recall  f1-score   support\n\n           0       1.00      1.00      1.00      5949\n           1       1.00      1.00      1.00       605\n\n    accuracy                           1.00      6554\n   macro avg       1.00      1.00      1.00      6554\nweighted avg       1.00      1.00      1.00      6554\n\ncold accuracy: 0.99985\n              precision    recall  f1-score   support\n\n           0       1.00      1.00      1.00      6415\n           1       1.00      0.99      1.00       139\n\n    accuracy                           1.00      6554\n   macro avg       1.00      1.00      1.00      6554\nweighted avg       1.00      1.00      1.00      6554\n\nother_weather accuracy: 0.99969\n              precision    recall  f1-score   support\n\n           0       1.00      1.00      1.00      6205\n           1       1.00      1.00      1.00       349\n\n    accuracy                           1.00      6554\n   macro avg       1.00      1.00      1.00      6554\nweighted avg       1.00      1.00      1.00      6554\n\ndirect_report accuracy: 0.99985\n              precision    recall  f1-score   support\n\n           0       1.00      1.00      1.00      5273\n           1       1.00      1.00      1.00      1281\n\n    accuracy                           1.00      6554\n   macro avg       1.00      1.00      1.00      6554\nweighted avg       1.00      1.00      1.00      6554\n\ntotal accuracy 0.99983\ntotal f1 0.99983\n"
    }
   ],
   "source": [
    "performance_report(cv, X_test, y_test, category_names)"
   ]
  },
  {
   "cell_type": "markdown",
   "metadata": {},
   "source": [
    "### 8. Try improving your model further. Here are a few ideas:\n",
    "* try other machine learning algorithms\n",
    "* add other features besides the TF-IDF"
   ]
  },
  {
   "cell_type": "code",
   "execution_count": 15,
   "metadata": {},
   "outputs": [],
   "source": [
    "pipeline1 = Pipeline([\n",
    "        ('vect', CountVectorizer(tokenizer=tokenize)),\n",
    "        ('tfidf', TfidfTransformer()),\n",
    "        ('clf', MultiOutputClassifier(AdaBoostClassifier()))])"
   ]
  },
  {
   "cell_type": "code",
   "execution_count": 16,
   "metadata": {},
   "outputs": [
    {
     "output_type": "execute_result",
     "data": {
      "text/plain": "Pipeline(memory=None,\n         steps=[('vect',\n                 CountVectorizer(analyzer='word', binary=False,\n                                 decode_error='strict',\n                                 dtype=<class 'numpy.int64'>, encoding='utf-8',\n                                 input='content', lowercase=True, max_df=1.0,\n                                 max_features=None, min_df=1,\n                                 ngram_range=(1, 1), preprocessor=None,\n                                 stop_words=None, strip_accents=None,\n                                 token_pattern='(?u)\\\\b\\\\w\\\\w+\\\\b',\n                                 tokenizer=<function tokenize at 0x7fe184bf2b90>,\n                                 vocabulary=None)),\n                ('tfidf',\n                 TfidfTransformer(norm='l2', smooth_idf=True,\n                                  sublinear_tf=False, use_idf=True)),\n                ('clf',\n                 MultiOutputClassifier(estimator=AdaBoostClassifier(algorithm='SAMME.R',\n                                                                    base_estimator=None,\n                                                                    learning_rate=1.0,\n                                                                    n_estimators=50,\n                                                                    random_state=None),\n                                       n_jobs=None))],\n         verbose=False)"
     },
     "metadata": {},
     "execution_count": 16
    }
   ],
   "source": [
    "X_train, X_test, y_train, y_test = train_test_split(X, y, random_state = 23)\n",
    "pipeline1.fit(X_train, y_train)"
   ]
  },
  {
   "cell_type": "code",
   "execution_count": 18,
   "metadata": {},
   "outputs": [
    {
     "output_type": "stream",
     "name": "stdout",
     "text": "related accuracy: 0.76869\n              precision    recall  f1-score   support\n\n           0       0.57      0.18      0.28      1537\n           1       0.79      0.96      0.86      4968\n           2       0.42      0.20      0.27        49\n\n    accuracy                           0.77      6554\n   macro avg       0.59      0.45      0.47      6554\nweighted avg       0.73      0.77      0.72      6554\n\nrequest accuracy: 0.88831\n              precision    recall  f1-score   support\n\n           0       0.91      0.96      0.93      5390\n           1       0.76      0.55      0.63      1164\n\n    accuracy                           0.89      6554\n   macro avg       0.83      0.75      0.78      6554\nweighted avg       0.88      0.89      0.88      6554\n\noffer accuracy: 0.99512\n              precision    recall  f1-score   support\n\n           0       1.00      1.00      1.00      6529\n           1       0.00      0.00      0.00        25\n\n    accuracy                           1.00      6554\n   macro avg       0.50      0.50      0.50      6554\nweighted avg       0.99      1.00      0.99      6554\n\naid_related accuracy: 0.75053\n              precision    recall  f1-score   support\n\n           0       0.75      0.86      0.80      3830\n           1       0.75      0.59      0.66      2724\n\n    accuracy                           0.75      6554\n   macro avg       0.75      0.73      0.73      6554\nweighted avg       0.75      0.75      0.74      6554\n\nmedical_help accuracy: 0.93058\n              precision    recall  f1-score   support\n\n           0       0.94      0.99      0.96      6047\n           1       0.62      0.27      0.38       507\n\n    accuracy                           0.93      6554\n   macro avg       0.78      0.63      0.67      6554\nweighted avg       0.92      0.93      0.92      6554\n\nmedical_products accuracy: 0.95545\n              precision    recall  f1-score   support\n\n           0       0.96      0.99      0.98      6223\n           1       0.63      0.29      0.39       331\n\n    accuracy                           0.96      6554\n   macro avg       0.80      0.64      0.69      6554\nweighted avg       0.95      0.96      0.95      6554\n\nsearch_and_rescue accuracy: 0.97315\n              precision    recall  f1-score   support\n\n           0       0.98      1.00      0.99      6368\n           1       0.59      0.18      0.27       186\n\n    accuracy                           0.97      6554\n   macro avg       0.78      0.59      0.63      6554\nweighted avg       0.97      0.97      0.97      6554\n\nsecurity accuracy: 0.98108\n              precision    recall  f1-score   support\n\n           0       0.98      1.00      0.99      6433\n           1       0.41      0.06      0.10       121\n\n    accuracy                           0.98      6554\n   macro avg       0.70      0.53      0.55      6554\nweighted avg       0.97      0.98      0.97      6554\n\nmilitary accuracy: 0.96964\n              precision    recall  f1-score   support\n\n           0       0.98      0.99      0.98      6350\n           1       0.52      0.27      0.36       204\n\n    accuracy                           0.97      6554\n   macro avg       0.75      0.63      0.67      6554\nweighted avg       0.96      0.97      0.97      6554\n\nchild_alone accuracy: 1.00000\n              precision    recall  f1-score   support\n\n           0       1.00      1.00      1.00      6554\n\n    accuracy                           1.00      6554\n   macro avg       1.00      1.00      1.00      6554\nweighted avg       1.00      1.00      1.00      6554\n\nwater accuracy: 0.96063\n              precision    recall  f1-score   support\n\n           0       0.97      0.99      0.98      6102\n           1       0.76      0.63      0.69       452\n\n    accuracy                           0.96      6554\n   macro avg       0.87      0.81      0.83      6554\nweighted avg       0.96      0.96      0.96      6554\n\nfood accuracy: 0.94675\n              precision    recall  f1-score   support\n\n           0       0.96      0.98      0.97      5807\n           1       0.81      0.70      0.75       747\n\n    accuracy                           0.95      6554\n   macro avg       0.88      0.84      0.86      6554\nweighted avg       0.94      0.95      0.95      6554\n\nshelter accuracy: 0.94095\n              precision    recall  f1-score   support\n\n           0       0.95      0.98      0.97      5969\n           1       0.74      0.52      0.61       585\n\n    accuracy                           0.94      6554\n   macro avg       0.85      0.75      0.79      6554\nweighted avg       0.94      0.94      0.94      6554\n\nclothing accuracy: 0.98764\n              precision    recall  f1-score   support\n\n           0       0.99      1.00      0.99      6453\n           1       0.67      0.40      0.50       101\n\n    accuracy                           0.99      6554\n   macro avg       0.83      0.70      0.75      6554\nweighted avg       0.99      0.99      0.99      6554\n\nmoney accuracy: 0.97788\n              precision    recall  f1-score   support\n\n           0       0.98      0.99      0.99      6392\n           1       0.59      0.34      0.43       162\n\n    accuracy                           0.98      6554\n   macro avg       0.79      0.67      0.71      6554\nweighted avg       0.97      0.98      0.97      6554\n\nmissing_people accuracy: 0.99023\n              precision    recall  f1-score   support\n\n           0       0.99      1.00      1.00      6484\n           1       0.67      0.17      0.27        70\n\n    accuracy                           0.99      6554\n   macro avg       0.83      0.59      0.63      6554\nweighted avg       0.99      0.99      0.99      6554\n\nrefugees accuracy: 0.96720\n              precision    recall  f1-score   support\n\n           0       0.97      0.99      0.98      6317\n           1       0.62      0.23      0.34       237\n\n    accuracy                           0.97      6554\n   macro avg       0.80      0.61      0.66      6554\nweighted avg       0.96      0.97      0.96      6554\n\ndeath accuracy: 0.96964\n              precision    recall  f1-score   support\n\n           0       0.97      0.99      0.98      6268\n           1       0.77      0.43      0.55       286\n\n    accuracy                           0.97      6554\n   macro avg       0.87      0.71      0.77      6554\nweighted avg       0.97      0.97      0.97      6554\n\nother_aid accuracy: 0.86390\n              precision    recall  f1-score   support\n\n           0       0.88      0.97      0.93      5671\n           1       0.48      0.16      0.23       883\n\n    accuracy                           0.86      6554\n   macro avg       0.68      0.56      0.58      6554\nweighted avg       0.83      0.86      0.83      6554\n\ninfrastructure_related accuracy: 0.93149\n              precision    recall  f1-score   support\n\n           0       0.94      0.99      0.96      6121\n           1       0.43      0.12      0.19       433\n\n    accuracy                           0.93      6554\n   macro avg       0.69      0.56      0.58      6554\nweighted avg       0.91      0.93      0.91      6554\n\ntransport accuracy: 0.96109\n              precision    recall  f1-score   support\n\n           0       0.96      1.00      0.98      6257\n           1       0.75      0.21      0.33       297\n\n    accuracy                           0.96      6554\n   macro avg       0.86      0.60      0.66      6554\nweighted avg       0.95      0.96      0.95      6554\n\nbuildings accuracy: 0.96109\n              precision    recall  f1-score   support\n\n           0       0.97      0.99      0.98      6206\n           1       0.74      0.41      0.53       348\n\n    accuracy                           0.96      6554\n   macro avg       0.85      0.70      0.75      6554\nweighted avg       0.96      0.96      0.96      6554\n\nelectricity accuracy: 0.98215\n              precision    recall  f1-score   support\n\n           0       0.99      1.00      0.99      6429\n           1       0.56      0.29      0.38       125\n\n    accuracy                           0.98      6554\n   macro avg       0.77      0.64      0.69      6554\nweighted avg       0.98      0.98      0.98      6554\n\ntools accuracy: 0.99252\n              precision    recall  f1-score   support\n\n           0       0.99      1.00      1.00      6511\n           1       0.12      0.02      0.04        43\n\n    accuracy                           0.99      6554\n   macro avg       0.56      0.51      0.52      6554\nweighted avg       0.99      0.99      0.99      6554\n\nhospitals accuracy: 0.98581\n              precision    recall  f1-score   support\n\n           0       0.99      1.00      0.99      6473\n           1       0.27      0.09      0.13        81\n\n    accuracy                           0.99      6554\n   macro avg       0.63      0.54      0.56      6554\nweighted avg       0.98      0.99      0.98      6554\n\nshops accuracy: 0.99420\n              precision    recall  f1-score   support\n\n           0       1.00      1.00      1.00      6524\n           1       0.00      0.00      0.00        30\n\n    accuracy                           0.99      6554\n   macro avg       0.50      0.50      0.50      6554\nweighted avg       0.99      0.99      0.99      6554\n\naid_centers accuracy: 0.98261\n              precision    recall  f1-score   support\n\n           0       0.99      1.00      0.99      6463\n           1       0.13      0.04      0.07        91\n\n    accuracy                           0.98      6554\n   macro avg       0.56      0.52      0.53      6554\nweighted avg       0.97      0.98      0.98      6554\n\nother_infrastructure accuracy: 0.95468\n              precision    recall  f1-score   support\n\n           0       0.96      0.99      0.98      6272\n           1       0.40      0.11      0.17       282\n\n    accuracy                           0.95      6554\n   macro avg       0.68      0.55      0.57      6554\nweighted avg       0.94      0.95      0.94      6554\n\nweather_related accuracy: 0.87321\n              precision    recall  f1-score   support\n\n           0       0.88      0.96      0.92      4782\n           1       0.85      0.65      0.73      1772\n\n    accuracy                           0.87      6554\n   macro avg       0.86      0.80      0.83      6554\nweighted avg       0.87      0.87      0.87      6554\n\nfloods accuracy: 0.95636\n              precision    recall  f1-score   support\n\n           0       0.96      0.99      0.98      6039\n           1       0.84      0.55      0.66       515\n\n    accuracy                           0.96      6554\n   macro avg       0.90      0.77      0.82      6554\nweighted avg       0.95      0.96      0.95      6554\n\nstorm accuracy: 0.93668\n              precision    recall  f1-score   support\n\n           0       0.95      0.98      0.97      5946\n           1       0.74      0.49      0.59       608\n\n    accuracy                           0.94      6554\n   macro avg       0.84      0.74      0.78      6554\nweighted avg       0.93      0.94      0.93      6554\n\nfire accuracy: 0.99023\n              precision    recall  f1-score   support\n\n           0       0.99      1.00      1.00      6492\n           1       0.48      0.34      0.40        62\n\n    accuracy                           0.99      6554\n   macro avg       0.74      0.67      0.70      6554\nweighted avg       0.99      0.99      0.99      6554\n\nearthquake accuracy: 0.96887\n              precision    recall  f1-score   support\n\n           0       0.98      0.99      0.98      5949\n           1       0.89      0.76      0.82       605\n\n    accuracy                           0.97      6554\n   macro avg       0.93      0.87      0.90      6554\nweighted avg       0.97      0.97      0.97      6554\n\ncold accuracy: 0.98245\n              precision    recall  f1-score   support\n\n           0       0.99      1.00      0.99      6415\n           1       0.66      0.35      0.46       139\n\n    accuracy                           0.98      6554\n   macro avg       0.82      0.67      0.73      6554\nweighted avg       0.98      0.98      0.98      6554\n\nother_weather accuracy: 0.94690\n              precision    recall  f1-score   support\n\n           0       0.95      0.99      0.97      6205\n           1       0.50      0.15      0.23       349\n\n    accuracy                           0.95      6554\n   macro avg       0.73      0.57      0.60      6554\nweighted avg       0.93      0.95      0.93      6554\n\ndirect_report accuracy: 0.86909\n              precision    recall  f1-score   support\n\n           0       0.89      0.96      0.92      5273\n           1       0.75      0.50      0.60      1281\n\n    accuracy                           0.87      6554\n   macro avg       0.82      0.73      0.76      6554\nweighted avg       0.86      0.87      0.86      6554\n\ntotal accuracy 0.94686\ntotal f1 0.93946\n"
    }
   ],
   "source": [
    "y_pred = pipeline1.predict(X_test)\n",
    "performance_report(pipeline1, X_test, y_test, category_names)"
   ]
  },
  {
   "cell_type": "markdown",
   "metadata": {},
   "source": [
    "### 9. Export your model as a pickle file"
   ]
  },
  {
   "cell_type": "code",
   "execution_count": 13,
   "metadata": {},
   "outputs": [],
   "source": [
    "import joblib"
   ]
  },
  {
   "cell_type": "code",
   "execution_count": 14,
   "metadata": {},
   "outputs": [
    {
     "output_type": "execute_result",
     "data": {
      "text/plain": "['disaster_model1.pkl']"
     },
     "metadata": {},
     "execution_count": 14
    }
   ],
   "source": [
    "joblib.dump(cv.best_estimator_, 'disaster_model1.pkl')"
   ]
  },
  {
   "cell_type": "markdown",
   "metadata": {},
   "source": [
    "### 10. Use this notebook to complete `train.py`\n",
    "Use the template file attached in the Resources folder to write a script that runs the steps above to create a database and export a model based on a new dataset specified by the user."
   ]
  },
  {
   "cell_type": "code",
   "execution_count": null,
   "metadata": {},
   "outputs": [],
   "source": []
  },
  {
   "cell_type": "code",
   "execution_count": 89,
   "metadata": {},
   "outputs": [
    {
     "output_type": "stream",
     "name": "stdout",
     "text": "0.19545238698999778\n{'clf__estimator__max_depth': None, 'clf__estimator__min_samples_leaf': 2, 'tfidf__smooth_idf': True, 'tfidf__sublinear_tf': False, 'tfidf__use_idf': True}\n"
    }
   ],
   "source": [
    "#Trying more parameters\n",
    "parameters = {\n",
    "            'tfidf__use_idf': (True, False), 'tfidf__smooth_idf': (True, False),\n",
    "            'tfidf__sublinear_tf': (True, False), 'tfidf__use_idf': (True, False), 'clf__estimator__max_depth': [10, 50, None],\n",
    "              'clf__estimator__min_samples_leaf':[2, 5, 10]}\n",
    "\n",
    "cv = GridSearchCV(pipeline, param_grid=parameters)\n",
    "cv.fit(X,y)\n",
    "print(cv.best_score_)\n",
    "print(cv.best_params_)"
   ]
  }
 ],
 "metadata": {
  "kernelspec": {
   "display_name": "Python 3",
   "language": "python",
   "name": "python3"
  },
  "language_info": {
   "codemirror_mode": {
    "name": "ipython",
    "version": 3
   },
   "file_extension": ".py",
   "mimetype": "text/x-python",
   "name": "python",
   "nbconvert_exporter": "python",
   "pygments_lexer": "ipython3",
   "version": "3.7.6-final"
  }
 },
 "nbformat": 4,
 "nbformat_minor": 2
}